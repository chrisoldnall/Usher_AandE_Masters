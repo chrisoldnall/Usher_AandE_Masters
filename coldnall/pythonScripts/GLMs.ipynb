{
 "cells": [
  {
   "cell_type": "markdown",
   "metadata": {},
   "source": [
    "# GLMs using A&E attendance data from 2018-2022.\n",
    "\n",
    "In this notebook we generate the GLMs for the A&E proportional based data between 2018 and 2022.\n",
    "\n",
    "For this we will need the following packages\n",
    "- pandas\n",
    "- numpy\n",
    "- statsmodels\n",
    "\n",
    "We can check and download any packages required using the below."
   ]
  },
  {
   "cell_type": "code",
   "execution_count": 1,
   "metadata": {},
   "outputs": [
    {
     "name": "stdout",
     "output_type": "stream",
     "text": [
      "Requirement already satisfied: pandas in /Users/chrisoldnall/anaconda3/envs/mypython/lib/python3.9/site-packages (2.1.4)\n",
      "Requirement already satisfied: numpy in /Users/chrisoldnall/anaconda3/envs/mypython/lib/python3.9/site-packages (1.26.4)\n",
      "Requirement already satisfied: statsmodels in /Users/chrisoldnall/anaconda3/envs/mypython/lib/python3.9/site-packages (0.14.0)\n",
      "Requirement already satisfied: python-dateutil>=2.8.2 in /Users/chrisoldnall/anaconda3/envs/mypython/lib/python3.9/site-packages (from pandas) (2.9.0.post0)\n",
      "Requirement already satisfied: pytz>=2020.1 in /Users/chrisoldnall/anaconda3/envs/mypython/lib/python3.9/site-packages (from pandas) (2024.1)\n",
      "Requirement already satisfied: tzdata>=2022.1 in /Users/chrisoldnall/anaconda3/envs/mypython/lib/python3.9/site-packages (from pandas) (2023.3)\n",
      "Requirement already satisfied: scipy!=1.9.2,>=1.4 in /Users/chrisoldnall/anaconda3/envs/mypython/lib/python3.9/site-packages (from statsmodels) (1.13.0)\n",
      "Requirement already satisfied: patsy>=0.5.2 in /Users/chrisoldnall/anaconda3/envs/mypython/lib/python3.9/site-packages (from statsmodels) (0.5.3)\n",
      "Requirement already satisfied: packaging>=21.3 in /Users/chrisoldnall/anaconda3/envs/mypython/lib/python3.9/site-packages (from statsmodels) (23.2)\n",
      "Requirement already satisfied: six in /Users/chrisoldnall/anaconda3/envs/mypython/lib/python3.9/site-packages (from patsy>=0.5.2->statsmodels) (1.16.0)\n"
     ]
    }
   ],
   "source": [
    "!pip install pandas numpy statsmodels"
   ]
  },
  {
   "cell_type": "code",
   "execution_count": 2,
   "metadata": {},
   "outputs": [],
   "source": [
    "import pandas as pd\n",
    "import numpy as np\n",
    "import statsmodels.api as sm\n",
    "import statsmodels.formula.api as smf"
   ]
  },
  {
   "cell_type": "markdown",
   "metadata": {},
   "source": [
    "# 1. Data Import\n",
    "\n",
    "In the previous notebook (```GLMPropDataPrep.ipynb```) we shaped the data into the format that we wanted and saved it as ```AE_Prop_Time_Pivot_GLM_Data.csv```. We will now import this."
   ]
  },
  {
   "cell_type": "code",
   "execution_count": 18,
   "metadata": {},
   "outputs": [],
   "source": [
    "ProportionalData = pd.read_csv(\"../../data/ProcessedData/AE_Prop_Time_Pivot_GLM_Data.csv\")"
   ]
  },
  {
   "cell_type": "markdown",
   "metadata": {},
   "source": [
    "# 2a. A total attendance - COVID period model."
   ]
  },
  {
   "cell_type": "code",
   "execution_count": 4,
   "metadata": {},
   "outputs": [
    {
     "name": "stdout",
     "output_type": "stream",
     "text": [
      "                 Generalized Linear Model Regression Results                  \n",
      "==============================================================================\n",
      "Dep. Variable:       TotalAttendances   No. Observations:                   60\n",
      "Model:                            GLM   Df Residuals:                       56\n",
      "Model Family:                 Poisson   Df Model:                            3\n",
      "Link Function:                    Log   Scale:                          1.0000\n",
      "Method:                          IRLS   Log-Likelihood:                -32878.\n",
      "Date:                Sun, 27 Oct 2024   Deviance:                       64944.\n",
      "Time:                        22:51:24   Pearson chi2:                 6.37e+04\n",
      "No. Iterations:                     4   Pseudo R-squ. (CS):              1.000\n",
      "Covariance Type:            nonrobust                                         \n",
      "=======================================================================================\n",
      "                          coef    std err          z      P>|z|      [0.025      0.975]\n",
      "---------------------------------------------------------------------------------------\n",
      "Intercept              11.3737      0.001   8217.460      0.000      11.371      11.376\n",
      "C(CovidPeriod)[T.2]     0.1028      0.002     44.369      0.000       0.098       0.107\n",
      "C(CovidPeriod)[T.3]     0.2994      0.002    169.176      0.000       0.296       0.303\n",
      "C(CovidPeriod)[T.4]     0.3912      0.001    270.445      0.000       0.388       0.394\n",
      "=======================================================================================\n"
     ]
    }
   ],
   "source": [
    "formula1 = 'TotalAttendances ~ C(CovidPeriod)'\n",
    "CovidPeriodModel = smf.glm(formula=formula1, \n",
    "                    data=ProportionalData, \n",
    "                    family=sm.families.Poisson(link=sm.families.links.Log())).fit()\n",
    "\n",
    "\n",
    "print(CovidPeriodModel.summary())"
   ]
  },
  {
   "cell_type": "code",
   "execution_count": 5,
   "metadata": {},
   "outputs": [],
   "source": [
    "def GLMSummary(model, baseline_label=\"CovidPeriod 1\"):\n",
    "    summary_lines = []\n",
    "    # Intercept interpretation (baseline period)\n",
    "    intercept = model.params['Intercept']\n",
    "    intercept_exp = np.exp(intercept)\n",
    "    summary_lines.append(f\"GLM Summary:\\n\")\n",
    "    summary_lines.append(f\"Baseline period ({baseline_label}) has an expected number of attendances of {intercept_exp:.2f}.\\n\")\n",
    "    # Loop through the other coefficients (excluding the Intercept)\n",
    "    for variable in model.params.index:\n",
    "        if variable != 'Intercept':\n",
    "            coef = model.params[variable]\n",
    "            coef_exp = np.exp(coef)  # Exponentiate the coefficient to interpret it in percentage terms\n",
    "            p_value = model.pvalues[variable]\n",
    "            # Interpret the coefficient in percentage terms\n",
    "            percentage_change = (coef_exp - 1) * 100\n",
    "            # Determine if it's statistically significant\n",
    "            significance = \"statistically significant\" if p_value < 0.05 else \"not statistically significant\"\n",
    "            # Add the interpretation to the summary\n",
    "            summary_lines.append(f\"For {variable}, the expected number of attendances is {coef_exp:.2f} times \")\n",
    "            summary_lines.append(f\"the number in the baseline period, representing a change of {percentage_change:.2f}%.\\n\")\n",
    "            summary_lines.append(f\"This result is {significance} (p-value = {p_value:.5f}).\\n\")\n",
    "    # Join the lines and return the formatted text summary\n",
    "    return ''.join(summary_lines)"
   ]
  },
  {
   "cell_type": "code",
   "execution_count": 6,
   "metadata": {},
   "outputs": [
    {
     "name": "stdout",
     "output_type": "stream",
     "text": [
      "GLM Summary:\n",
      "Baseline period (CovidPeriod 1) has an expected number of attendances of 87000.67.\n",
      "For C(CovidPeriod)[T.2], the expected number of attendances is 1.11 times the number in the baseline period, representing a change of 10.83%.\n",
      "This result is statistically significant (p-value = 0.00000).\n",
      "For C(CovidPeriod)[T.3], the expected number of attendances is 1.35 times the number in the baseline period, representing a change of 34.91%.\n",
      "This result is statistically significant (p-value = 0.00000).\n",
      "For C(CovidPeriod)[T.4], the expected number of attendances is 1.48 times the number in the baseline period, representing a change of 47.88%.\n",
      "This result is statistically significant (p-value = 0.00000).\n",
      "\n"
     ]
    }
   ],
   "source": [
    "CovidPeriodSummary = GLMSummary(CovidPeriodModel, baseline_label=\"CovidPeriod 1\")\n",
    "print(CovidPeriodSummary)\n",
    "with open('/Users/chrisoldnall/Library/Mobile Documents/com~apple~CloudDocs/PhD/Masters Supervision/1. Hui Pheng Teoh/GitHub/Usher_AandE_Masters/Usher_AandE_Masters/coldnall/results/GLMSummaries/CovidPeriodSummary_Summary.txt', 'w') as f:\n",
    "    f.write(CovidPeriodSummary)"
   ]
  },
  {
   "cell_type": "markdown",
   "metadata": {},
   "source": [
    "## 2b. Intermeditate models (matching Hui's R)"
   ]
  },
  {
   "cell_type": "markdown",
   "metadata": {},
   "source": [
    "### Sex and COVID"
   ]
  },
  {
   "cell_type": "code",
   "execution_count": 8,
   "metadata": {},
   "outputs": [
    {
     "name": "stdout",
     "output_type": "stream",
     "text": [
      "                 Generalized Linear Model Regression Results                  \n",
      "==============================================================================\n",
      "Dep. Variable:       TotalAttendances   No. Observations:                   60\n",
      "Model:                            GLM   Df Residuals:                       54\n",
      "Model Family:                 Poisson   Df Model:                            5\n",
      "Link Function:                    log   Scale:                          1.0000\n",
      "Method:                          IRLS   Log-Likelihood:                -23461.\n",
      "Date:                Sun, 27 Oct 2024   Deviance:                       46110.\n",
      "Time:                        22:51:55   Pearson chi2:                 4.53e+04\n",
      "No. Iterations:                    16   Pseudo R-squ. (CS):              1.000\n",
      "Covariance Type:            nonrobust                                         \n",
      "=======================================================================================\n",
      "                          coef    std err          z      P>|z|      [0.025      0.975]\n",
      "---------------------------------------------------------------------------------------\n",
      "Intercept              10.5661      0.016    656.515      0.000      10.535      10.598\n",
      "C(CovidPeriod)[T.2]     0.0352      0.002     14.809      0.000       0.031       0.040\n",
      "C(CovidPeriod)[T.3]     0.1970      0.002     94.271      0.000       0.193       0.201\n",
      "C(CovidPeriod)[T.4]     0.2664      0.002    154.297      0.000       0.263       0.270\n",
      "Female                 -0.7095      0.047    -15.027      0.000      -0.802      -0.617\n",
      "Male                    2.1559      0.052     41.105      0.000       2.053       2.259\n",
      "UnknownSex              9.1197      0.049    184.749      0.000       9.023       9.216\n",
      "=======================================================================================\n"
     ]
    },
    {
     "name": "stderr",
     "output_type": "stream",
     "text": [
      "/Users/chrisoldnall/anaconda3/envs/mypython/lib/python3.9/site-packages/statsmodels/genmod/families/links.py:13: FutureWarning: The log link alias is deprecated. Use Log instead. The log link alias will be removed after the 0.15.0 release.\n",
      "  warnings.warn(\n"
     ]
    }
   ],
   "source": [
    "def sanitize_column_names(df):\n",
    "    df.columns = [col.replace(' ', '_').replace('-', '_').replace('+', '_plus_') for col in df.columns]\n",
    "    df.columns = [f\"col_{col}\" if col[0].isdigit() else col for col in df.columns]\n",
    "    return df\n",
    "\n",
    "ProportionalData = sanitize_column_names(ProportionalData)\n",
    "formula2 = 'TotalAttendances ~ Female + Male + UnknownSex + C(CovidPeriod)'\n",
    "\n",
    "SexCovidModel = smf.glm(formula=formula2, \n",
    "                data=ProportionalData, \n",
    "                family=sm.families.Poisson(link=sm.families.links.log())).fit()\n",
    "\n",
    "# Display the model summary\n",
    "print(SexCovidModel.summary())"
   ]
  },
  {
   "cell_type": "markdown",
   "metadata": {},
   "source": [
    "### Sex, Age and COVID model."
   ]
  },
  {
   "cell_type": "code",
   "execution_count": 9,
   "metadata": {},
   "outputs": [
    {
     "name": "stdout",
     "output_type": "stream",
     "text": [
      "                 Generalized Linear Model Regression Results                  \n",
      "==============================================================================\n",
      "Dep. Variable:       TotalAttendances   No. Observations:                   60\n",
      "Model:                            GLM   Df Residuals:                       49\n",
      "Model Family:                 Poisson   Df Model:                           10\n",
      "Link Function:                    log   Scale:                          1.0000\n",
      "Method:                          IRLS   Log-Likelihood:                -13319.\n",
      "Date:                Sun, 27 Oct 2024   Deviance:                       25826.\n",
      "Time:                        22:52:03   Pearson chi2:                 2.56e+04\n",
      "No. Iterations:                     4   Pseudo R-squ. (CS):              1.000\n",
      "Covariance Type:            nonrobust                                         \n",
      "=======================================================================================\n",
      "                          coef    std err          z      P>|z|      [0.025      0.975]\n",
      "---------------------------------------------------------------------------------------\n",
      "Intercept               9.7012      0.019    501.144      0.000       9.663       9.739\n",
      "C(CovidPeriod)[T.2]     0.0044      0.003      1.641      0.101      -0.001       0.010\n",
      "C(CovidPeriod)[T.3]     0.0780      0.002     32.121      0.000       0.073       0.083\n",
      "C(CovidPeriod)[T.4]     0.0784      0.003     25.330      0.000       0.072       0.084\n",
      "Female                  3.8447      0.065     59.554      0.000       3.718       3.971\n",
      "Male                    0.8108      0.061     13.240      0.000       0.691       0.931\n",
      "UnknownSex              5.0457      0.039    129.926      0.000       4.970       5.122\n",
      "col_18_24               3.6712      0.092     39.822      0.000       3.491       3.852\n",
      "col_25_39              -2.0571      0.141    -14.600      0.000      -2.333      -1.781\n",
      "col_40_64              -3.0488      0.113    -26.979      0.000      -3.270      -2.827\n",
      "col_65_74              14.7123      0.270     54.520      0.000      14.183      15.241\n",
      "col_75_plus            -9.8304      0.163    -60.190      0.000     -10.151      -9.510\n",
      "Under_18                1.2084      0.031     38.374      0.000       1.147       1.270\n",
      "UnknownAge              5.0457      0.039    129.926      0.000       4.970       5.122\n",
      "=======================================================================================\n"
     ]
    },
    {
     "name": "stderr",
     "output_type": "stream",
     "text": [
      "/Users/chrisoldnall/anaconda3/envs/mypython/lib/python3.9/site-packages/statsmodels/genmod/families/links.py:13: FutureWarning: The log link alias is deprecated. Use Log instead. The log link alias will be removed after the 0.15.0 release.\n",
      "  warnings.warn(\n"
     ]
    }
   ],
   "source": [
    "formula3 = 'TotalAttendances ~ Female + Male + UnknownSex + col_18_24 + col_25_39 + col_40_64 + col_65_74 + col_75_plus + Under_18 + UnknownAge + C(CovidPeriod)'\n",
    "\n",
    "SexAgeCovidModel = smf.glm(formula=formula3, \n",
    "                data=ProportionalData, \n",
    "                family=sm.families.Poisson(link=sm.families.links.log())).fit()\n",
    "\n",
    "# Display the model summary\n",
    "print(SexAgeCovidModel.summary())"
   ]
  },
  {
   "cell_type": "markdown",
   "metadata": {},
   "source": [
    "## 2b. Incorporating All Factors"
   ]
  },
  {
   "cell_type": "code",
   "execution_count": 19,
   "metadata": {},
   "outputs": [
    {
     "data": {
      "text/plain": [
       "Index(['Month', 'TotalAttendances', 'CovidPeriod', 'DateFormatted', 'Female',\n",
       "       'Male', 'UnknownSex', '18-24', '25-39', '40-64', '65-74', '75 plus',\n",
       "       'Under 18', 'UnknownAge', 'SIMD1', 'SIMD2', 'SIMD3', 'SIMD4', 'SIMD5',\n",
       "       'UnknownSIMD', 'ED', 'MIU', 'S08000015', 'S08000016', 'S08000017',\n",
       "       'S08000019', 'S08000020', 'S08000022', 'S08000024', 'S08000025',\n",
       "       'S08000026', 'S08000028', 'S08000029', 'S08000030', 'S08000031',\n",
       "       'S08000032', 'Friday', 'Monday', 'Saturday', 'Sunday', 'Thursday',\n",
       "       'Tuesday', 'Wednesday', 'Year', 'MonthNumber', 'sin_month', 'cos_month',\n",
       "       'Date', 'Time'],\n",
       "      dtype='object')"
      ]
     },
     "execution_count": 19,
     "metadata": {},
     "output_type": "execute_result"
    }
   ],
   "source": [
    "ProportionalData.columns"
   ]
  },
  {
   "cell_type": "code",
   "execution_count": 21,
   "metadata": {},
   "outputs": [
    {
     "name": "stdout",
     "output_type": "stream",
     "text": [
      "                 Generalized Linear Model Regression Results                  \n",
      "==============================================================================\n",
      "Dep. Variable:       TotalAttendances   No. Observations:                   60\n",
      "Model:                            GLM   Df Residuals:                       23\n",
      "Model Family:                 Poisson   Df Model:                           36\n",
      "Link Function:                    log   Scale:                          1.0000\n",
      "Method:                          IRLS   Log-Likelihood:                -3655.1\n",
      "Date:                Sun, 27 Oct 2024   Deviance:                       6498.1\n",
      "Time:                        22:56:13   Pearson chi2:                 6.52e+03\n",
      "No. Iterations:                     4   Pseudo R-squ. (CS):              1.000\n",
      "Covariance Type:            nonrobust                                         \n",
      "=======================================================================================\n",
      "                          coef    std err          z      P>|z|      [0.025      0.975]\n",
      "---------------------------------------------------------------------------------------\n",
      "Intercept              27.3978      0.466     58.735      0.000      26.484      28.312\n",
      "C(CovidPeriod)[T.2]     0.1153      0.004     26.494      0.000       0.107       0.124\n",
      "C(CovidPeriod)[T.3]     0.1529      0.004     42.793      0.000       0.146       0.160\n",
      "C(CovidPeriod)[T.4]     0.0931      0.006     15.349      0.000       0.081       0.105\n",
      "ED                     -0.1753      0.229     -0.765      0.444      -0.624       0.274\n",
      "Female                  2.7873      0.655      4.256      0.000       1.504       4.071\n",
      "Friday                 -0.8839      0.050    -17.554      0.000      -0.983      -0.785\n",
      "Male                    3.1862      0.672      4.741      0.000       1.869       4.504\n",
      "S08000016             -21.1255      1.170    -18.051      0.000     -23.419     -18.832\n",
      "S08000017             -17.6351      0.763    -23.124      0.000     -19.130     -16.140\n",
      "S08000019               2.9123      0.610      4.777      0.000       1.717       4.107\n",
      "S08000020             -19.1816      0.419    -45.817      0.000     -20.002     -18.361\n",
      "S08000022              -7.8403      0.429    -18.258      0.000      -8.682      -6.999\n",
      "S08000024             -17.1773      0.357    -48.089      0.000     -17.877     -16.477\n",
      "S08000025              51.7471      2.787     18.569      0.000      46.285      57.209\n",
      "S08000026             -46.6194      2.504    -18.618      0.000     -51.527     -41.712\n",
      "S08000028              -8.3817      2.320     -3.612      0.000     -12.930      -3.834\n",
      "S08000029             -13.0869      0.643    -20.343      0.000     -14.348     -11.826\n",
      "S08000030              -2.0489      0.422     -4.860      0.000      -2.875      -1.223\n",
      "S08000031              -1.8829      0.306     -6.149      0.000      -2.483      -1.283\n",
      "S08000032              -8.3030      0.409    -20.289      0.000      -9.105      -7.501\n",
      "SIMD1                  -7.3043      0.595    -12.270      0.000      -8.471      -6.138\n",
      "SIMD2                  -4.6335      0.655     -7.072      0.000      -5.918      -3.349\n",
      "SIMD3                  -8.6027      0.627    -13.713      0.000      -9.832      -7.373\n",
      "SIMD4                 -16.2391      0.678    -23.943      0.000     -17.568     -14.910\n",
      "SIMD5                  -1.6013      0.670     -2.389      0.017      -2.915      -0.288\n",
      "Saturday               -1.7551      0.057    -30.783      0.000      -1.867      -1.643\n",
      "Sunday                 -1.2222      0.075    -16.279      0.000      -1.369      -1.075\n",
      "Thursday               -0.9893      0.055    -17.913      0.000      -1.098      -0.881\n",
      "Time                 1.654e-05   8.39e-06      1.972      0.049    1.02e-07     3.3e-05\n",
      "Tuesday                -2.0010      0.061    -32.629      0.000      -2.121      -1.881\n",
      "Under_18               -1.1698      0.330     -3.547      0.000      -1.816      -0.523\n",
      "Wednesday              -0.3593      0.054     -6.612      0.000      -0.466      -0.253\n",
      "col_18_24              -1.2496      0.363     -3.441      0.001      -1.961      -0.538\n",
      "col_25_39              -7.7182      0.411    -18.768      0.000      -8.524      -6.912\n",
      "col_40_64              -0.2922      0.390     -0.749      0.454      -1.056       0.472\n",
      "col_65_74              -5.0765      0.763     -6.652      0.000      -6.572      -3.581\n",
      "=======================================================================================\n"
     ]
    },
    {
     "name": "stderr",
     "output_type": "stream",
     "text": [
      "/Users/chrisoldnall/anaconda3/envs/mypython/lib/python3.9/site-packages/statsmodels/genmod/families/links.py:13: FutureWarning: The log link alias is deprecated. Use Log instead. The log link alias will be removed after the 0.15.0 release.\n",
      "  warnings.warn(\n"
     ]
    }
   ],
   "source": [
    "def sanitize_column_names(df):\n",
    "    df.columns = [col.replace(' ', '_').replace('-', '_').replace('+', '_plus_') for col in df.columns]\n",
    "    df.columns = [f\"col_{col}\" if col[0].isdigit() else col for col in df.columns]\n",
    "    return df\n",
    "\n",
    "ProportionalData = sanitize_column_names(ProportionalData)\n",
    "\n",
    "predictor_columns = ProportionalData.columns.difference(['Month', 'MonthNumber', 'TotalAttendances', 'CovidPeriod', 'DateFormatted', 'Date', 'cos_month', 'sin_month', 'col_75_plus', 'UnknownAge', 'UnknownSIMD', 'UnknownSex', 'MIU', 'S08000015', 'Year', 'Monday'])\n",
    "\n",
    "formula = 'TotalAttendances ~ ' + ' + '.join(predictor_columns) + ' + C(CovidPeriod)'\n",
    "# Missing day of the week and time.\n",
    "\n",
    "FullModel = smf.glm(formula=formula, \n",
    "                data=ProportionalData, \n",
    "                family=sm.families.Poisson(link=sm.families.links.log())).fit()\n",
    "\n",
    "# Display the model summary\n",
    "print(FullModel.summary())"
   ]
  },
  {
   "cell_type": "code",
   "execution_count": null,
   "metadata": {},
   "outputs": [],
   "source": [
    "def interpret_glm_results(model):\n",
    "    \"\"\"\n",
    "    This function generates a human-readable interpretation of the GLM results.\n",
    "    \n",
    "    Parameters:\n",
    "    - model: The fitted GLM model object (from statsmodels).\n",
    "    \n",
    "    Returns:\n",
    "    - A string summary interpreting the key results.\n",
    "    \"\"\"\n",
    "    summary_lines = []\n",
    "    \n",
    "    # Extract the model parameters (coefficients), standard errors, and p-values\n",
    "    params = model.params\n",
    "    pvalues = model.pvalues\n",
    "    conf_int = model.conf_int()\n",
    "\n",
    "    summary_lines.append(\"GLM Summary:\\n\")\n",
    "    \n",
    "    # Interpret the Intercept (baseline)\n",
    "    if 'Intercept' in params:\n",
    "        intercept = params['Intercept']\n",
    "        intercept_exp = np.exp(intercept)  # Exponentiate to get the effect in the original scale\n",
    "        summary_lines.append(f\"Baseline level (Intercept):\\n\")\n",
    "        summary_lines.append(f\"- Log-transformed expected number of attendances: {intercept:.4f}\\n\")\n",
    "        summary_lines.append(f\"- Expected number of attendances (exponentiated): {intercept_exp:.2f}\\n\\n\")\n",
    "    \n",
    "    # Loop over all variables, excluding the intercept\n",
    "    for variable in params.index:\n",
    "        if variable == 'Intercept':\n",
    "            continue  # Skip intercept\n",
    "        \n",
    "        coef = params[variable]\n",
    "        coef_exp = np.exp(coef)  # Exponentiated coefficient to get the multiplicative effect\n",
    "        p_value = pvalues[variable]\n",
    "        conf_lower, conf_upper = conf_int.loc[variable]\n",
    "\n",
    "        # Variable effect interpretation\n",
    "        summary_lines.append(f\"Variable: {variable}\\n\")\n",
    "        summary_lines.append(f\"- Coefficient (log scale): {coef:.4f}\\n\")\n",
    "        summary_lines.append(f\"- Exponentiated coefficient (effect on attendance): {coef_exp:.4f}\\n\")\n",
    "\n",
    "        # Statistical significance\n",
    "        if p_value < 0.001:\n",
    "            summary_lines.append(f\"- P-value: {p_value:.5f} (highly significant)\\n\")\n",
    "        elif p_value < 0.05:\n",
    "            summary_lines.append(f\"- P-value: {p_value:.5f} (significant)\\n\")\n",
    "        else:\n",
    "            summary_lines.append(f\"- P-value: {p_value:.5f} (not significant)\\n\")\n",
    "\n",
    "        # Confidence Interval interpretation\n",
    "        summary_lines.append(f\"- 95% Confidence Interval (log scale): [{conf_lower:.4f}, {conf_upper:.4f}]\\n\")\n",
    "        summary_lines.append(f\"- 95% Confidence Interval (exponentiated): [{np.exp(conf_lower):.4f}, {np.exp(conf_upper):.4f}]\\n\\n\")\n",
    "    \n",
    "    return ''.join(summary_lines)\n",
    "\n",
    "\n",
    "interpretation = interpret_glm_results(FullModel)\n",
    "\n",
    "# Print the interpretation summary\n",
    "print(interpretation)\n",
    "\n",
    "# # Optionally, you can save the interpretation to a file\n",
    "# with open('glm_interpretation.txt', 'w') as f:\n",
    "#     f.write(interpretation)"
   ]
  },
  {
   "cell_type": "code",
   "execution_count": null,
   "metadata": {},
   "outputs": [],
   "source": [
    "import numpy as np\n",
    "import matplotlib.pyplot as plt\n",
    "\n",
    "# Assuming you have a dataframe `gender_data` with 'Month', 'FemaleProportion', 'MaleProportion', 'UnknownSexProportion'\n",
    "# and coefficients for Female, Male, and UnknownSex from your model.\n",
    "\n",
    "# Coefficients from the model\n",
    "beta_female = 2.0192  # Example coefficient for female proportion\n",
    "beta_male = 2.5221    # Example coefficient for male proportion\n",
    "beta_unknown = 1.2650  # Example coefficient for unknown sex proportion\n",
    "\n",
    "# Calculate the net effect on attendances for each month\n",
    "PivotData['NetEffect'] = np.exp(beta_female * PivotData['Female']) * \\\n",
    "                           np.exp(beta_male * PivotData['Male']) * \\\n",
    "                           np.exp(beta_unknown * PivotData['UnknownSex'])\n",
    "\n",
    "# Plot the net effect over time\n",
    "plt.figure(figsize=(10, 6))\n",
    "plt.plot(PivotData['DateFormatted'], PivotData['NetEffect'], label='Net Effect of Gender Proportions', color='blue', linewidth=2)\n",
    "plt.title('Net Effect of Gender Proportions on Total Attendances Over Time')\n",
    "plt.xlabel('Month')\n",
    "plt.ylabel('Net Effect on Attendances')\n",
    "xticks_positions = np.arange(0, len(PivotData['DateFormatted']), 3)  # Get every 3rd index\n",
    "plt.xticks(xticks_positions, PivotData['DateFormatted'][xticks_positions], rotation=45)\n",
    "plt.legend()\n",
    "plt.grid(True)\n",
    "plt.tight_layout()\n",
    "plt.show()"
   ]
  },
  {
   "cell_type": "code",
   "execution_count": null,
   "metadata": {},
   "outputs": [],
   "source": [
    "# Calculate individual effects for each gender\n",
    "PivotData['FemaleEffect'] = np.exp(beta_female * PivotData['Female'])\n",
    "PivotData['MaleEffect'] = np.exp(beta_male * PivotData['Male'])\n",
    "PivotData['UnknownEffect'] = np.exp(beta_unknown * PivotData['UnknownSex'])\n",
    "\n",
    "# Stacked area plot to visualize contributions of each gender proportion to total attendances\n",
    "plt.figure(figsize=(10, 6))\n",
    "plt.stackplot(PivotData['DateFormatted'], PivotData['FemaleEffect'], PivotData['MaleEffect'], PivotData['UnknownEffect'], \n",
    "              labels=['Female Effect', 'Male Effect', 'UnknownSex Effect'], colors=['red', 'green', 'purple'])\n",
    "\n",
    "plt.title('Contributions of Gender Proportions to Total Attendances Over Time')\n",
    "plt.xlabel('Month')\n",
    "plt.ylabel('Effect on Attendances')\n",
    "xticks_positions = np.arange(0, len(PivotData['DateFormatted']), 3)  # Get every 3rd index\n",
    "plt.xticks(xticks_positions, PivotData['DateFormatted'][xticks_positions], rotation=45)\n",
    "plt.legend(loc='upper left')\n",
    "plt.grid(True)\n",
    "plt.tight_layout()\n",
    "plt.show()"
   ]
  },
  {
   "cell_type": "code",
   "execution_count": null,
   "metadata": {},
   "outputs": [],
   "source": [
    "# Coefficients from the model\n",
    "beta_female = 2.0192  # Example coefficient for female proportion\n",
    "beta_male = 2.5221    # Example coefficient for male proportion\n",
    "beta_unknown = 1.2650  # Example coefficient for unknown sex proportion\n",
    "\n",
    "# Calculate changes (deltas) in gender proportions\n",
    "PivotData['Delta_FemaleProportion'] = PivotData['Female'].diff().fillna(0)\n",
    "PivotData['Delta_MaleProportion'] = PivotData['Male'].diff().fillna(0)\n",
    "PivotData['Delta_UnknownSexProportion'] = PivotData['UnknownSex'].diff().fillna(0)\n",
    "\n",
    "# Calculate the net change in total attendances based on proportion changes\n",
    "PivotData['NetAttendanceChange'] = np.exp(beta_female * PivotData['Delta_FemaleProportion']) * \\\n",
    "                                     np.exp(beta_male * PivotData['Delta_MaleProportion']) * \\\n",
    "                                     np.exp(beta_unknown * PivotData['Delta_UnknownSexProportion'])\n",
    "\n",
    "# Plot the net change in attendances over time\n",
    "plt.figure(figsize=(10, 6))\n",
    "plt.plot(PivotData['DateFormatted'], PivotData['NetAttendanceChange'], label='Net Change in Attendances', color='blue', linewidth=2)\n",
    "plt.title('Net Change in Attendances Based on Gender Proportion Changes')\n",
    "plt.xlabel('Month')\n",
    "plt.ylabel('Net Change in Attendances')\n",
    "xticks_positions = np.arange(0, len(PivotData['DateFormatted']), 3)  # Get every 3rd index\n",
    "plt.xticks(xticks_positions, PivotData['DateFormatted'][xticks_positions], rotation=45)\n",
    "plt.legend()\n",
    "plt.grid(True)\n",
    "plt.tight_layout()\n",
    "plt.show()"
   ]
  },
  {
   "cell_type": "code",
   "execution_count": null,
   "metadata": {},
   "outputs": [],
   "source": [
    "import numpy as np\n",
    "import matplotlib.pyplot as plt\n",
    "\n",
    "# Assuming you have a dataframe `PivotData` with health board proportions ('S08000015', 'S08000016', ...)\n",
    "# and the corresponding coefficients from your model.\n",
    "\n",
    "# Coefficients from the model (based on your GLM output)\n",
    "beta_S08000015 = 6.4778\n",
    "beta_S08000016 = -9.1968\n",
    "beta_S08000017 = -7.2156\n",
    "beta_S08000019 = 10.7318\n",
    "beta_S08000020 = -7.6196\n",
    "beta_S08000022 = -1.0653\n",
    "beta_S08000024 = -8.2229\n",
    "beta_S08000025 = 37.2065\n",
    "beta_S08000026 = -18.9730\n",
    "beta_S08000028 = -3.5433\n",
    "beta_S08000029 = -2.1611\n",
    "beta_S08000030 = 1.7524\n",
    "beta_S08000031 = 5.7727\n",
    "beta_S08000032 = 1.8629\n",
    "\n",
    "# Calculate the net effect on attendances for each month\n",
    "PivotData['NetEffectHealthBoards'] = np.exp(beta_S08000015 * PivotData['S08000015']) * \\\n",
    "                                     np.exp(beta_S08000016 * PivotData['S08000016']) * \\\n",
    "                                     np.exp(beta_S08000017 * PivotData['S08000017']) * \\\n",
    "                                     np.exp(beta_S08000019 * PivotData['S08000019']) * \\\n",
    "                                     np.exp(beta_S08000020 * PivotData['S08000020']) * \\\n",
    "                                     np.exp(beta_S08000022 * PivotData['S08000022']) * \\\n",
    "                                     np.exp(beta_S08000024 * PivotData['S08000024']) * \\\n",
    "                                     np.exp(beta_S08000025 * PivotData['S08000025']) * \\\n",
    "                                     np.exp(beta_S08000026 * PivotData['S08000026']) * \\\n",
    "                                     np.exp(beta_S08000028 * PivotData['S08000028']) * \\\n",
    "                                     np.exp(beta_S08000029 * PivotData['S08000029']) * \\\n",
    "                                     np.exp(beta_S08000030 * PivotData['S08000030']) * \\\n",
    "                                     np.exp(beta_S08000031 * PivotData['S08000031']) * \\\n",
    "                                     np.exp(beta_S08000032 * PivotData['S08000032'])\n",
    "\n",
    "# Plot the net effect over time\n",
    "plt.figure(figsize=(10, 6))\n",
    "plt.plot(PivotData['DateFormatted'], PivotData['NetEffectHealthBoards'], label='Net Effect of Health Boards', color='green', linewidth=2)\n",
    "plt.title('Net Effect of Health Boards on Total Attendances Over Time')\n",
    "plt.xlabel('Month')\n",
    "plt.ylabel('Net Effect on Attendances')\n",
    "xticks_positions = np.arange(0, len(PivotData['DateFormatted']), 3)  # Get every 3rd index\n",
    "plt.xticks(xticks_positions, PivotData['DateFormatted'][xticks_positions], rotation=45)\n",
    "plt.legend()\n",
    "plt.grid(True)\n",
    "plt.tight_layout()\n",
    "plt.show()"
   ]
  },
  {
   "cell_type": "markdown",
   "metadata": {},
   "source": [
    "# 3. Experimental models.\n",
    "\n",
    "## 3a. Seasonal trends via monthly incorporation."
   ]
  },
  {
   "cell_type": "code",
   "execution_count": null,
   "metadata": {},
   "outputs": [],
   "source": [
    "PivotData = PivotData.assign(\n",
    "    Year = PivotData['Month'] // 100,\n",
    "    MonthNumber = PivotData['Month'] % 100)\n",
    "\n",
    "PivotData['sin_month'] = np.sin(2 * np.pi * PivotData['MonthNumber'] / 12)\n",
    "PivotData['cos_month'] = np.cos(2 * np.pi * PivotData['MonthNumber'] / 12)\n",
    "\n",
    "SeasonalFormula = 'TotalAttendances ~ C(CovidPeriod) + sin_month + cos_month'\n",
    "\n",
    "SeasonalModel = smf.glm(formula=SeasonalFormula, \n",
    "                data=PivotData, \n",
    "                family=sm.families.Poisson(link=sm.families.links.log())).fit()\n",
    "\n",
    "print(SeasonalModel.summary())"
   ]
  }
 ],
 "metadata": {
  "kernelspec": {
   "display_name": "mypython",
   "language": "python",
   "name": "python3"
  },
  "language_info": {
   "codemirror_mode": {
    "name": "ipython",
    "version": 3
   },
   "file_extension": ".py",
   "mimetype": "text/x-python",
   "name": "python",
   "nbconvert_exporter": "python",
   "pygments_lexer": "ipython3",
   "version": "3.9.15"
  }
 },
 "nbformat": 4,
 "nbformat_minor": 2
}
